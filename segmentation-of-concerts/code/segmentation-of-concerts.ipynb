{
 "cells": [
  {
   "cell_type": "markdown",
   "metadata": {},
   "source": [
    "# 80s Metal\n",
    "\n",
    "## segmentation of concerts\n",
    "\n",
    "Scott Harrison - 2019-04-07\n",
    "\n",
    "Segments a band´s concerts to see what can de understood from when and where they have played."
   ]
  },
  {
   "cell_type": "markdown",
   "metadata": {},
   "source": [
    "### set up"
   ]
  },
  {
   "cell_type": "code",
   "execution_count": 157,
   "metadata": {},
   "outputs": [],
   "source": [
    "dir_repo = \"C:\\\\Users\\\\harri\\\\Dropbox\\\\01 Scott\\\\Data Science\\\\Repositories\\\\\"\n",
    "data_concert = dir_repo + \"\\\\80s-metal\\\\segmentation-of-concerts\\\\data\\\\motley_crue-concerts.xlsx\"\n",
    "\n",
    "import pandas as pd\n",
    "from datetime import datetime"
   ]
  },
  {
   "cell_type": "markdown",
   "metadata": {},
   "source": [
    "### data prep"
   ]
  },
  {
   "cell_type": "code",
   "execution_count": 158,
   "metadata": {},
   "outputs": [
    {
     "name": "stdout",
     "output_type": "stream",
     "text": [
      "           date                         concert                         venue  \\\n",
      "0  Jan 10, 2019                     Motley crue  Molson Canadian Amphitheatre   \n",
      "1  May 22, 2018                     Motley Crue                           NaN   \n",
      "2  Jan 09, 2017  Alice cooper and motley CrÃ¼e                Rod Laver Arena   \n",
      "3           NaN      Alice Cooper / Motley Crue                           NaN   \n",
      "4  Jan 04, 2017                     Motley Crue                           NaN   \n",
      "\n",
      "                  location  \n",
      "0  Toronto Ontario, Canada  \n",
      "1                      NaN  \n",
      "2                Melbourne  \n",
      "3                      NaN  \n",
      "4                      NaN  \n",
      "                    date        concert           venue     location\n",
      "count                510            715             476          471\n",
      "unique               389            330             273          198\n",
      "top     Jun 12, 2015 â€“  Motley Crue    Donington Park  Houston, TX\n",
      "freq                   8             64              11           13\n",
      "Index(['date', 'concert', 'venue', 'location'], dtype='object')\n",
      "<class 'pandas.core.frame.DataFrame'>\n"
     ]
    }
   ],
   "source": [
    "# read in the data\n",
    "df = pd.read_excel(data_concert)\n",
    "\n",
    "# update names\n",
    "df.columns = [x.strip().lower() for x in df.columns.values.tolist()]\n",
    "\n",
    "# summarise results\n",
    "print(df.head())\n",
    "print(df.describe())\n",
    "print(df.columns)\n",
    "print(type(df))"
   ]
  },
  {
   "cell_type": "code",
   "execution_count": 159,
   "metadata": {},
   "outputs": [
    {
     "data": {
      "text/html": [
       "<div>\n",
       "<style>\n",
       "    .dataframe thead tr:only-child th {\n",
       "        text-align: right;\n",
       "    }\n",
       "\n",
       "    .dataframe thead th {\n",
       "        text-align: left;\n",
       "    }\n",
       "\n",
       "    .dataframe tbody tr th {\n",
       "        vertical-align: top;\n",
       "    }\n",
       "</style>\n",
       "<table border=\"1\" class=\"dataframe\">\n",
       "  <thead>\n",
       "    <tr style=\"text-align: right;\">\n",
       "      <th></th>\n",
       "      <th>date</th>\n",
       "      <th>concert_x</th>\n",
       "      <th>concert_y</th>\n",
       "      <th>venue</th>\n",
       "      <th>location</th>\n",
       "    </tr>\n",
       "  </thead>\n",
       "  <tbody>\n",
       "    <tr>\n",
       "      <th>0</th>\n",
       "      <td>Jan 10, 2019</td>\n",
       "      <td>Motley crue</td>\n",
       "      <td></td>\n",
       "      <td>Molson Canadian Amphitheatre</td>\n",
       "      <td>Toronto Ontario, Canada</td>\n",
       "    </tr>\n",
       "    <tr>\n",
       "      <th>1</th>\n",
       "      <td>May 22, 2018</td>\n",
       "      <td>Motley Crue</td>\n",
       "      <td></td>\n",
       "      <td></td>\n",
       "      <td></td>\n",
       "    </tr>\n",
       "    <tr>\n",
       "      <th>2</th>\n",
       "      <td>Jan 09, 2017</td>\n",
       "      <td>Alice cooper and motley CrÃ¼e</td>\n",
       "      <td>Alice Cooper / Motley Crue</td>\n",
       "      <td>Rod Laver Arena</td>\n",
       "      <td>Melbourne</td>\n",
       "    </tr>\n",
       "    <tr>\n",
       "      <th>3</th>\n",
       "      <td>Jan 04, 2017</td>\n",
       "      <td>Motley Crue</td>\n",
       "      <td></td>\n",
       "      <td></td>\n",
       "      <td></td>\n",
       "    </tr>\n",
       "    <tr>\n",
       "      <th>4</th>\n",
       "      <td>Dec 15, 2016 â€“</td>\n",
       "      <td>Motley Crue</td>\n",
       "      <td></td>\n",
       "      <td>Arena</td>\n",
       "      <td>Lexington, KY</td>\n",
       "    </tr>\n",
       "  </tbody>\n",
       "</table>\n",
       "</div>"
      ],
      "text/plain": [
       "               date                       concert_x  \\\n",
       "0      Jan 10, 2019                     Motley crue   \n",
       "1      May 22, 2018                     Motley Crue   \n",
       "2      Jan 09, 2017  Alice cooper and motley CrÃ¼e    \n",
       "3      Jan 04, 2017                     Motley Crue   \n",
       "4  Dec 15, 2016 â€“                     Motley Crue   \n",
       "\n",
       "                    concert_y                         venue  \\\n",
       "0                              Molson Canadian Amphitheatre   \n",
       "1                                                             \n",
       "2  Alice Cooper / Motley Crue               Rod Laver Arena   \n",
       "3                                                             \n",
       "4                                                     Arena   \n",
       "\n",
       "                  location  \n",
       "0  Toronto Ontario, Canada  \n",
       "1                           \n",
       "2                Melbourne  \n",
       "3                           \n",
       "4            Lexington, KY  "
      ]
     },
     "execution_count": 159,
     "metadata": {},
     "output_type": "execute_result"
    }
   ],
   "source": [
    "# consolidate rows\n",
    "df['id'] = df.index\n",
    "df_new = df[pd.notnull(df['date'])]\n",
    "df_add = df[pd.isnull(df['date'])][['concert', 'id']]\n",
    "df_add['id'] = df_add['id'] - 1\n",
    "df_comb = pd.merge(df_new, df_add, how='left', on='id')\n",
    "df = df_comb[['date', 'concert_x', 'concert_y', 'venue', 'location']]\n",
    "df = df.fillna('')\n",
    "df.head()"
   ]
  },
  {
   "cell_type": "code",
   "execution_count": 166,
   "metadata": {},
   "outputs": [
    {
     "data": {
      "text/html": [
       "<div>\n",
       "<style>\n",
       "    .dataframe thead tr:only-child th {\n",
       "        text-align: right;\n",
       "    }\n",
       "\n",
       "    .dataframe thead th {\n",
       "        text-align: left;\n",
       "    }\n",
       "\n",
       "    .dataframe tbody tr th {\n",
       "        vertical-align: top;\n",
       "    }\n",
       "</style>\n",
       "<table border=\"1\" class=\"dataframe\">\n",
       "  <thead>\n",
       "    <tr style=\"text-align: right;\">\n",
       "      <th></th>\n",
       "      <th>date</th>\n",
       "      <th>concert_x</th>\n",
       "      <th>concert_y</th>\n",
       "      <th>venue</th>\n",
       "      <th>location</th>\n",
       "      <th>year</th>\n",
       "      <th>month</th>\n",
       "      <th>day</th>\n",
       "      <th>isweekend</th>\n",
       "    </tr>\n",
       "  </thead>\n",
       "  <tbody>\n",
       "    <tr>\n",
       "      <th>7</th>\n",
       "      <td>2015-12-31</td>\n",
       "      <td>Motley Crue</td>\n",
       "      <td></td>\n",
       "      <td>Staples Center</td>\n",
       "      <td>Los Angeles, CA</td>\n",
       "      <td>2015</td>\n",
       "      <td>12</td>\n",
       "      <td>3</td>\n",
       "      <td>False</td>\n",
       "    </tr>\n",
       "    <tr>\n",
       "      <th>8</th>\n",
       "      <td>2015-12-19</td>\n",
       "      <td>Motley Crue / Alice Cooper</td>\n",
       "      <td></td>\n",
       "      <td>US Airways Center</td>\n",
       "      <td>Phoenix, AZ</td>\n",
       "      <td>2015</td>\n",
       "      <td>12</td>\n",
       "      <td>5</td>\n",
       "      <td>True</td>\n",
       "    </tr>\n",
       "    <tr>\n",
       "      <th>9</th>\n",
       "      <td>2015-12-15</td>\n",
       "      <td>The Final Tour</td>\n",
       "      <td>Motley Crue / Alice Cooper</td>\n",
       "      <td>Moda Center</td>\n",
       "      <td>Portland, OR</td>\n",
       "      <td>2015</td>\n",
       "      <td>12</td>\n",
       "      <td>1</td>\n",
       "      <td>False</td>\n",
       "    </tr>\n",
       "    <tr>\n",
       "      <th>10</th>\n",
       "      <td>2015-12-15</td>\n",
       "      <td>Motley Crue</td>\n",
       "      <td></td>\n",
       "      <td>Moda Center</td>\n",
       "      <td>Portland, OR</td>\n",
       "      <td>2015</td>\n",
       "      <td>12</td>\n",
       "      <td>1</td>\n",
       "      <td>False</td>\n",
       "    </tr>\n",
       "    <tr>\n",
       "      <th>11</th>\n",
       "      <td>2015-12-08</td>\n",
       "      <td>Motley Crue / Alice Cooper</td>\n",
       "      <td></td>\n",
       "      <td>Target Center</td>\n",
       "      <td>Minneapolis, MN</td>\n",
       "      <td>2015</td>\n",
       "      <td>12</td>\n",
       "      <td>1</td>\n",
       "      <td>False</td>\n",
       "    </tr>\n",
       "  </tbody>\n",
       "</table>\n",
       "</div>"
      ],
      "text/plain": [
       "         date                         concert_x                   concert_y  \\\n",
       "7  2015-12-31                     Motley Crue                                 \n",
       "8  2015-12-19  Motley Crue / Alice Cooper                                     \n",
       "9  2015-12-15                  The Final Tour    Motley Crue / Alice Cooper   \n",
       "10 2015-12-15                     Motley Crue                                 \n",
       "11 2015-12-08      Motley Crue / Alice Cooper                                 \n",
       "\n",
       "                venue         location  year  month  day  isweekend  \n",
       "7      Staples Center  Los Angeles, CA  2015     12    3      False  \n",
       "8   US Airways Center      Phoenix, AZ  2015     12    5       True  \n",
       "9         Moda Center     Portland, OR  2015     12    1      False  \n",
       "10        Moda Center     Portland, OR  2015     12    1      False  \n",
       "11      Target Center  Minneapolis, MN  2015     12    1      False  "
      ]
     },
     "execution_count": 166,
     "metadata": {},
     "output_type": "execute_result"
    }
   ],
   "source": [
    "# create dates and select valid\n",
    "df_dates = df.copy()\n",
    "df_dates['date'] = pd.to_datetime(df_dates['date'].str[0:12], infer_datetime_format=True)\n",
    "df_dates['year'] = df_dates['date'].dt.year\n",
    "df_dates['month'] = df_dates['date'].dt.month\n",
    "df_dates['day'] = df_dates['date'].dt.dayofweek\n",
    "df_dates['isweekend'] = df_dates['day'] > 4\n",
    "df_dates = df_dates[df_dates['date'].dt.year <= 2015]\n",
    "df = df_dates\n",
    "df.head()"
   ]
  },
  {
   "cell_type": "markdown",
   "metadata": {},
   "source": [
    "### data augmentation"
   ]
  },
  {
   "cell_type": "code",
   "execution_count": 167,
   "metadata": {},
   "outputs": [
    {
     "ename": "NameError",
     "evalue": "name 'geopandas' is not defined",
     "output_type": "error",
     "traceback": [
      "\u001b[1;31m---------------------------------------------------------------------------\u001b[0m",
      "\u001b[1;31mNameError\u001b[0m                                 Traceback (most recent call last)",
      "\u001b[1;32m<ipython-input-167-4af5911473e2>\u001b[0m in \u001b[0;36m<module>\u001b[1;34m()\u001b[0m\n\u001b[0;32m      1\u001b[0m \u001b[1;31m# get lat and long from Google\u001b[0m\u001b[1;33m\u001b[0m\u001b[1;33m\u001b[0m\u001b[0m\n\u001b[0;32m      2\u001b[0m \u001b[1;33m\u001b[0m\u001b[0m\n\u001b[1;32m----> 3\u001b[1;33m \u001b[0mboro_locations\u001b[0m \u001b[1;33m=\u001b[0m \u001b[0mgeopandas\u001b[0m\u001b[1;33m.\u001b[0m\u001b[0mtools\u001b[0m\u001b[1;33m.\u001b[0m\u001b[0mgeocode\u001b[0m\u001b[1;33m(\u001b[0m\u001b[1;34m'Sydney, Australia'\u001b[0m\u001b[1;33m,\u001b[0m \u001b[0mprovider\u001b[0m\u001b[1;33m=\u001b[0m\u001b[1;34m\"google\"\u001b[0m\u001b[1;33m)\u001b[0m\u001b[1;33m\u001b[0m\u001b[0m\n\u001b[0m",
      "\u001b[1;31mNameError\u001b[0m: name 'geopandas' is not defined"
     ]
    }
   ],
   "source": [
    "# get lat and long from Google\n",
    "\n",
    "boro_locations = geopandas.tools.geocode('Sydney, Australia', provider=\"google\")"
   ]
  },
  {
   "cell_type": "markdown",
   "metadata": {},
   "source": [
    "### segmentation"
   ]
  },
  {
   "cell_type": "markdown",
   "metadata": {},
   "source": [
    "### profiling"
   ]
  },
  {
   "cell_type": "code",
   "execution_count": null,
   "metadata": {},
   "outputs": [],
   "source": []
  }
 ],
 "metadata": {
  "kernelspec": {
   "display_name": "Python 3",
   "language": "python",
   "name": "python3"
  },
  "language_info": {
   "codemirror_mode": {
    "name": "ipython",
    "version": 3
   },
   "file_extension": ".py",
   "mimetype": "text/x-python",
   "name": "python",
   "nbconvert_exporter": "python",
   "pygments_lexer": "ipython3",
   "version": "3.6.3"
  }
 },
 "nbformat": 4,
 "nbformat_minor": 2
}
